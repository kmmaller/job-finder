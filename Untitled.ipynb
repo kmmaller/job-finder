{
 "cells": [
  {
   "cell_type": "code",
   "execution_count": 1,
   "metadata": {
    "collapsed": true
   },
   "outputs": [],
   "source": [
    "import operator"
   ]
  },
  {
   "cell_type": "code",
   "execution_count": 3,
   "metadata": {
    "collapsed": true
   },
   "outputs": [],
   "source": [
    "dict1 = {'a':{'b':1,'c':2},'pop':{'b':3,'c':4},'god':{'b':100,'c':52}}"
   ]
  },
  {
   "cell_type": "code",
   "execution_count": 53,
   "metadata": {},
   "outputs": [
    {
     "data": {
      "text/html": [
       "<div>\n",
       "<table border=\"1\" class=\"dataframe\">\n",
       "  <thead>\n",
       "    <tr style=\"text-align: right;\">\n",
       "      <th></th>\n",
       "      <th>b</th>\n",
       "      <th>c</th>\n",
       "    </tr>\n",
       "  </thead>\n",
       "  <tbody>\n",
       "  </tbody>\n",
       "</table>\n",
       "</div>"
      ],
      "text/plain": [
       "Empty DataFrame\n",
       "Columns: [b, c]\n",
       "Index: []"
      ]
     },
     "execution_count": 53,
     "metadata": {},
     "output_type": "execute_result"
    }
   ],
   "source": [
    "import pandas as pd\n",
    "dictdf = pd.DataFrame(dict1,columns = ['b','c'])\n",
    "#dictdf = dictdf.sort_values('c',ascending=False)\n",
    "dictdf\n",
    "#OrderedDict(sorted(dict1.items(), key=lambda x: x[1]['b'],reverse=True))"
   ]
  },
  {
   "cell_type": "code",
   "execution_count": 9,
   "metadata": {},
   "outputs": [
    {
     "name": "stdout",
     "output_type": "stream",
     "text": [
      "OrderedDict([('ABC12346', {'serial_num': 'ABC12346', 'site_location': 'Europe'}), ('SER12346', {'serial_num': 'SER12346', 'site_location': 'North America'}), ('SER12345', {'serial_num': 'SER12345', 'site_location': 'North America'}), ('ABC12345', {'serial_num': 'ABC12345', 'site_location': 'South America'}), ('SER12347', {'serial_num': 'SER12347', 'site_location': 'South America'})])\n"
     ]
    }
   ],
   "source": [
    "from collections import OrderedDict\n",
    "\n",
    "myDict = {\n",
    "    'SER12346': {'serial_num': 'SER12346', 'site_location': 'North America'},\n",
    "    'ABC12345': {'serial_num': 'ABC12345', 'site_location': 'South America'},\n",
    "    'SER12345': {'serial_num': 'SER12345', 'site_location': 'North America'},\n",
    "    'SER12347': {'serial_num': 'SER12347', 'site_location': 'South America'},\n",
    "    'ABC12346': {'serial_num': 'ABC12346', 'site_location': 'Europe'}\n",
    "}\n",
    "\n",
    "def sortfun(d):\n",
    "    return (d[1]['site_location'])\n",
    "\n",
    "skv = sorted(myDict.items(), key=myDict[1]['site_locationsortfun)\n",
    "sorted_dict = OrderedDict(skv)\n",
    "\n",
    "print(sorted_dict)"
   ]
  },
  {
   "cell_type": "code",
   "execution_count": 19,
   "metadata": {},
   "outputs": [
    {
     "ename": "TypeError",
     "evalue": "list indices must be integers or slices, not str",
     "output_type": "error",
     "traceback": [
      "\u001b[0;31m---------------------------------------------------------------------------\u001b[0m",
      "\u001b[0;31mTypeError\u001b[0m                                 Traceback (most recent call last)",
      "\u001b[0;32m<ipython-input-19-9664aba7b7b9>\u001b[0m in \u001b[0;36m<module>\u001b[0;34m()\u001b[0m\n\u001b[0;32m----> 1\u001b[0;31m \u001b[0mOrderedDict\u001b[0m\u001b[0;34m(\u001b[0m\u001b[0msorted\u001b[0m\u001b[0;34m(\u001b[0m\u001b[0mmyDict\u001b[0m\u001b[0;34m.\u001b[0m\u001b[0mitems\u001b[0m\u001b[0;34m(\u001b[0m\u001b[0;34m)\u001b[0m\u001b[0;34m,\u001b[0m\u001b[0mkey\u001b[0m\u001b[0;34m=\u001b[0m\u001b[0;34m[\u001b[0m\u001b[0;36m1\u001b[0m\u001b[0;34m]\u001b[0m\u001b[0;34m[\u001b[0m\u001b[0;34m'site_location'\u001b[0m\u001b[0;34m]\u001b[0m\u001b[0;34m)\u001b[0m\u001b[0;34m)\u001b[0m\u001b[0;34m\u001b[0m\u001b[0m\n\u001b[0m",
      "\u001b[0;31mTypeError\u001b[0m: list indices must be integers or slices, not str"
     ]
    }
   ],
   "source": [
    "OrderedDict(sorted(myDict.items(),key=[1]['site_location']))"
   ]
  },
  {
   "cell_type": "code",
   "execution_count": 17,
   "metadata": {},
   "outputs": [
    {
     "ename": "NameError",
     "evalue": "name 'd' is not defined",
     "output_type": "error",
     "traceback": [
      "\u001b[0;31m---------------------------------------------------------------------------\u001b[0m",
      "\u001b[0;31mNameError\u001b[0m                                 Traceback (most recent call last)",
      "\u001b[0;32m<ipython-input-17-1a3720af7e4f>\u001b[0m in \u001b[0;36m<module>\u001b[0;34m()\u001b[0m\n\u001b[0;32m----> 1\u001b[0;31m \u001b[0msortfun\u001b[0m\u001b[0;34m(\u001b[0m\u001b[0md\u001b[0m\u001b[0;34m)\u001b[0m\u001b[0;34m\u001b[0m\u001b[0m\n\u001b[0m",
      "\u001b[0;31mNameError\u001b[0m: name 'd' is not defined"
     ]
    }
   ],
   "source": [
    "sortfun(d)"
   ]
  },
  {
   "cell_type": "code",
   "execution_count": 24,
   "metadata": {},
   "outputs": [
    {
     "ename": "SyntaxError",
     "evalue": "invalid syntax (<ipython-input-24-5b35eef22f9f>, line 2)",
     "output_type": "error",
     "traceback": [
      "\u001b[0;36m  File \u001b[0;32m\"<ipython-input-24-5b35eef22f9f>\"\u001b[0;36m, line \u001b[0;32m2\u001b[0m\n\u001b[0;31m    dicts.sort(key=(lambda (k,d): (d['site_location'], d['serial_num']))\u001b[0m\n\u001b[0m                           ^\u001b[0m\n\u001b[0;31mSyntaxError\u001b[0m\u001b[0;31m:\u001b[0m invalid syntax\n"
     ]
    }
   ],
   "source": [
    "dicts = myDict.items()\n",
    "dicts.sort(key=(lambda (k,d): (d['site_location'], d['serial_num']))"
   ]
  },
  {
   "cell_type": "code",
   "execution_count": 66,
   "metadata": {},
   "outputs": [
    {
     "name": "stdout",
     "output_type": "stream",
     "text": [
      "<class 'str'>\n",
      "{'serial_num': 'ABC12346', 'site_location': 'Europe'}\n",
      "<class 'str'>\n",
      "{'serial_num': 'SER12346', 'site_location': 'North America'}\n",
      "<class 'str'>\n",
      "{'serial_num': 'ABC12345', 'site_location': 'South America'}\n",
      "<class 'str'>\n",
      "{'serial_num': 'SER12347', 'site_location': 'South America'}\n",
      "<class 'str'>\n",
      "{'serial_num': 'SER12345', 'site_location': 'North America'}\n"
     ]
    }
   ],
   "source": [
    "for key,item in myDict.items():\n",
    "    print(type(key))\n",
    "    print(item)"
   ]
  },
  {
   "cell_type": "code",
   "execution_count": null,
   "metadata": {
    "collapsed": true
   },
   "outputs": [],
   "source": [
    "{'(Associate) Java Script Developer for Business Planning in SAP Analytics Cloud': {'score': 1, 'words': ['english']},\n",
    " 'Manager Paid Media Analytics (m/f)': {'score': 1, 'words': ['english']}, \n",
    " 'ERP Consultant (m/f)': {'score': 2, 'words': ['erlangen', 'english']}, \n",
    " 'Werkstudent (m/w) Solution Engineering': {'score': 2, 'words': ['python', 'english']}, \n",
    " 'Technical Product Owner Marketing Analytics / Big Data (m/f)': {'score': 1, 'words': ['english']}, \n",
    " 'Data Engineer (m/w)': {'score': 2, 'words': ['python', 'englischen']}, \n",
    " '(Senior) Consultant Data Science (w/m) - mit Schwerpunkt Advanced Digital Analytics für München oder Hamburg': {'score': 1, 'words': ['python']}, \n",
    " 'MindSphere - Account Executive (m/f)': {'score': 2, 'words': ['erlangen', 'english']}, \n",
    " 'Data Governance Analyst (m/f)': {'score': 1, 'words': ['english']}, \n",
    " 'Area Product Owner (APO) (f/m) for the SAP Cloud Platform Persistence Team': {'score': 1, 'words': ['english']}, \n",
    " '(Senior) Software Engineer (m/f) for Equation Solver': {'score': 0, 'words': []}, \n",
    " 'Project Consultant/Project Lead: S/4HANA Cloud Central Content Services - Model Customer sONE': {'score': 1, 'words': ['english']}, \n",
    " 'Bachelor-/Masterarbeit im Bereich Big Data': {'score': 1, 'words': ['machine learning']}, \n",
    " '(Associate) Data Scientist for Deep Learning Center of Excellence': {'score': 6, 'words': ['machine learning', 'python', 'deep learning', 'english', 'physics', 'tensorflow']}, 'Senior Data Governance Analyst (m/f)': {'score': 1, 'words': ['english']}, 'Functional IT Architect / Requirements Engineer (m/w)': {'score': 1, 'words': ['english']}, '(Associate) Data Scientist - Deep Learning Center of Excellence': {'score': 6, 'words': ['machine learning', 'python', 'deep learning', 'english', 'physics', 'tensorflow']}, '(Associate) Product Director – Shop Potential Optimization': {'score': 0, 'words': []}, 'Junior Big Data Java Developer (m/w)': {'score': 1, 'words': ['english']}, 'IT-Systemadministrator/-in bzw. Technische/r Anwendungsbetreuer/-in': {'score': 0, 'words': []}, 'Duales Studium Informatik (Bachelor of Science) 2018': {'score': 0, 'words': []}, 'MindSphere - Customer Success Manager (m/f)': {'score': 2, 'words': ['erlangen', 'english']}, 'Data Scientist for Machine Learning for Sales and Services': {'score': 8, 'words': ['machine learning', 'phd', 'neural network', 'deep learning', 'english', 'neural networks', 'theano', 'tensorflow']}, 'Technical Product Owner - SUPERCRUNCH by GfK': {'score': 0, 'words': []}, \n",
    " 'Product Manager / Associate Product Director (m/w) Geomarketing / Big Data': {'score': 1, 'words': ['english']}, \n",
    " 'Global Head Commercial - SUPERCRUNCH by GfK': {'score': 1, 'words': ['english']}, '(Senior) Software Developer (m/f) for Simulation Framework': {'score': 1, 'words': ['physics']}}\n"
   ]
  }
 ],
 "metadata": {
  "kernelspec": {
   "display_name": "Python 3",
   "language": "python",
   "name": "python3"
  },
  "language_info": {
   "codemirror_mode": {
    "name": "ipython",
    "version": 3
   },
   "file_extension": ".py",
   "mimetype": "text/x-python",
   "name": "python",
   "nbconvert_exporter": "python",
   "pygments_lexer": "ipython3",
   "version": "3.5.2"
  }
 },
 "nbformat": 4,
 "nbformat_minor": 2
}
